{
 "cells": [
  {
   "cell_type": "code",
   "execution_count": 2,
   "metadata": {
    "scrolled": false
   },
   "outputs": [
    {
     "name": "stderr",
     "output_type": "stream",
     "text": [
      "\n",
      "Training:   0%|          | 0/200 [00:00<?, ?it/s]\u001b[A"
     ]
    },
    {
     "name": "stdout",
     "output_type": "stream",
     "text": [
      "(1000, 12, 1000) Counter({0: 361, 2: 320, 1: 319})\n"
     ]
    },
    {
     "name": "stderr",
     "output_type": "stream",
     "text": [
      "\n",
      "Training:   0%|          | 1/200 [00:01<04:40,  1.41s/it]\u001b[A\n",
      "Training:   1%|          | 2/200 [00:02<04:39,  1.41s/it]\u001b[A\n",
      "Training:   2%|▏         | 3/200 [00:04<04:30,  1.37s/it]\u001b[A\n",
      "Training:   2%|▏         | 4/200 [00:05<04:20,  1.33s/it]\u001b[A\n",
      "Training:   2%|▎         | 5/200 [00:06<04:13,  1.30s/it]\u001b[A\n",
      "Training:   3%|▎         | 6/200 [00:07<04:11,  1.30s/it]\u001b[A\n",
      "Training:   4%|▎         | 7/200 [00:09<04:04,  1.27s/it]\u001b[A\n",
      "Training:   4%|▍         | 8/200 [00:10<04:00,  1.25s/it]\u001b[A\n",
      "Training:   4%|▍         | 9/200 [00:11<03:56,  1.24s/it]\u001b[A\n",
      "Training:   5%|▌         | 10/200 [00:12<03:53,  1.23s/it]\u001b[A\n",
      "Training:   6%|▌         | 11/200 [00:13<03:50,  1.22s/it]\u001b[A\n",
      "Training:   6%|▌         | 12/200 [00:15<03:48,  1.22s/it]\u001b[A\n",
      "Training:   6%|▋         | 13/200 [00:16<03:48,  1.22s/it]\u001b[A\n",
      "Training:   7%|▋         | 14/200 [00:17<03:47,  1.22s/it]\u001b[A\n",
      "Training:   8%|▊         | 15/200 [00:18<03:46,  1.22s/it]\u001b[A\n",
      "Training:   8%|▊         | 16/200 [00:20<03:50,  1.25s/it]\u001b[A\n",
      "Training:   8%|▊         | 17/200 [00:21<03:49,  1.25s/it]\u001b[A\n",
      "Training:   9%|▉         | 18/200 [00:22<03:45,  1.24s/it]\u001b[A\n",
      "Training:  10%|▉         | 19/200 [00:23<03:41,  1.23s/it]\u001b[A\n",
      "Training:  10%|█         | 20/200 [00:24<03:39,  1.22s/it]\u001b[A\n",
      "Training:  10%|█         | 21/200 [00:26<03:37,  1.21s/it]\u001b[A\n",
      "Training:  11%|█         | 22/200 [00:27<03:36,  1.21s/it]\u001b[A\n",
      "Training:  12%|█▏        | 23/200 [00:28<03:33,  1.21s/it]\u001b[A\n",
      "Training:  12%|█▏        | 24/200 [00:29<03:32,  1.21s/it]\u001b[A\n",
      "Training:  12%|█▎        | 25/200 [00:30<03:31,  1.21s/it]\u001b[A\n",
      "Training:  13%|█▎        | 26/200 [00:32<03:33,  1.23s/it]\u001b[A\n",
      "Training:  14%|█▎        | 27/200 [00:33<03:37,  1.26s/it]\u001b[A\n",
      "Training:  14%|█▍        | 28/200 [00:34<03:37,  1.26s/it]\u001b[A\n",
      "Training:  14%|█▍        | 29/200 [00:36<03:32,  1.24s/it]\u001b[A\n",
      "Training:  15%|█▌        | 30/200 [00:37<03:29,  1.23s/it]\u001b[A\n",
      "Training:  16%|█▌        | 31/200 [00:38<03:26,  1.22s/it]\u001b[A\n",
      "Training:  16%|█▌        | 32/200 [00:39<03:25,  1.22s/it]\u001b[A\n",
      "Training:  16%|█▋        | 33/200 [00:40<03:22,  1.21s/it]\u001b[A\n",
      "Training:  17%|█▋        | 34/200 [00:42<03:22,  1.22s/it]\u001b[A"
     ]
    },
    {
     "ename": "KeyboardInterrupt",
     "evalue": "",
     "output_type": "error",
     "traceback": [
      "\u001b[0;31m---------------------------------------------------------------------------\u001b[0m",
      "\u001b[0;31mKeyboardInterrupt\u001b[0m                         Traceback (most recent call last)",
      "\u001b[0;32m~/disk/data/exp/resent_pytorch/exp.py\u001b[0m in \u001b[0;36m<module>\u001b[0;34m()\u001b[0m\n\u001b[1;32m    234\u001b[0m         \u001b[0mloss\u001b[0m \u001b[0;34m=\u001b[0m \u001b[0mloss_func\u001b[0m\u001b[0;34m(\u001b[0m\u001b[0mpred\u001b[0m\u001b[0;34m,\u001b[0m \u001b[0minput_y\u001b[0m\u001b[0;34m)\u001b[0m\u001b[0;34m\u001b[0m\u001b[0m\n\u001b[1;32m    235\u001b[0m         \u001b[0moptimizer\u001b[0m\u001b[0;34m.\u001b[0m\u001b[0mzero_grad\u001b[0m\u001b[0;34m(\u001b[0m\u001b[0;34m)\u001b[0m\u001b[0;34m\u001b[0m\u001b[0m\n\u001b[0;32m--> 236\u001b[0;31m         \u001b[0mloss\u001b[0m\u001b[0;34m.\u001b[0m\u001b[0mbackward\u001b[0m\u001b[0;34m(\u001b[0m\u001b[0;34m)\u001b[0m\u001b[0;34m\u001b[0m\u001b[0m\n\u001b[0m\u001b[1;32m    237\u001b[0m         \u001b[0moptimizer\u001b[0m\u001b[0;34m.\u001b[0m\u001b[0mstep\u001b[0m\u001b[0;34m(\u001b[0m\u001b[0;34m)\u001b[0m\u001b[0;34m\u001b[0m\u001b[0m\n\u001b[1;32m    238\u001b[0m         \u001b[0mprint\u001b[0m\u001b[0;34m(\u001b[0m\u001b[0mloss\u001b[0m\u001b[0;34m)\u001b[0m\u001b[0;34m\u001b[0m\u001b[0m\n",
      "\u001b[0;32m~/anaconda3/lib/python3.6/site-packages/torch/tensor.py\u001b[0m in \u001b[0;36mbackward\u001b[0;34m(self, gradient, retain_graph, create_graph)\u001b[0m\n\u001b[1;32m    116\u001b[0m                 \u001b[0mproducts\u001b[0m\u001b[0;34m.\u001b[0m \u001b[0mDefaults\u001b[0m \u001b[0mto\u001b[0m\u001b[0;31m \u001b[0m\u001b[0;31m`\u001b[0m\u001b[0;31m`\u001b[0m\u001b[0;32mFalse\u001b[0m\u001b[0;31m`\u001b[0m\u001b[0;31m`\u001b[0m\u001b[0;34m.\u001b[0m\u001b[0;34m\u001b[0m\u001b[0m\n\u001b[1;32m    117\u001b[0m         \"\"\"\n\u001b[0;32m--> 118\u001b[0;31m         \u001b[0mtorch\u001b[0m\u001b[0;34m.\u001b[0m\u001b[0mautograd\u001b[0m\u001b[0;34m.\u001b[0m\u001b[0mbackward\u001b[0m\u001b[0;34m(\u001b[0m\u001b[0mself\u001b[0m\u001b[0;34m,\u001b[0m \u001b[0mgradient\u001b[0m\u001b[0;34m,\u001b[0m \u001b[0mretain_graph\u001b[0m\u001b[0;34m,\u001b[0m \u001b[0mcreate_graph\u001b[0m\u001b[0;34m)\u001b[0m\u001b[0;34m\u001b[0m\u001b[0m\n\u001b[0m\u001b[1;32m    119\u001b[0m \u001b[0;34m\u001b[0m\u001b[0m\n\u001b[1;32m    120\u001b[0m     \u001b[0;32mdef\u001b[0m \u001b[0mregister_hook\u001b[0m\u001b[0;34m(\u001b[0m\u001b[0mself\u001b[0m\u001b[0;34m,\u001b[0m \u001b[0mhook\u001b[0m\u001b[0;34m)\u001b[0m\u001b[0;34m:\u001b[0m\u001b[0;34m\u001b[0m\u001b[0m\n",
      "\u001b[0;32m~/anaconda3/lib/python3.6/site-packages/torch/autograd/__init__.py\u001b[0m in \u001b[0;36mbackward\u001b[0;34m(tensors, grad_tensors, retain_graph, create_graph, grad_variables)\u001b[0m\n\u001b[1;32m     91\u001b[0m     Variable._execution_engine.run_backward(\n\u001b[1;32m     92\u001b[0m         \u001b[0mtensors\u001b[0m\u001b[0;34m,\u001b[0m \u001b[0mgrad_tensors\u001b[0m\u001b[0;34m,\u001b[0m \u001b[0mretain_graph\u001b[0m\u001b[0;34m,\u001b[0m \u001b[0mcreate_graph\u001b[0m\u001b[0;34m,\u001b[0m\u001b[0;34m\u001b[0m\u001b[0m\n\u001b[0;32m---> 93\u001b[0;31m         allow_unreachable=True)  # allow_unreachable flag\n\u001b[0m\u001b[1;32m     94\u001b[0m \u001b[0;34m\u001b[0m\u001b[0m\n\u001b[1;32m     95\u001b[0m \u001b[0;34m\u001b[0m\u001b[0m\n",
      "\u001b[0;31mKeyboardInterrupt\u001b[0m: "
     ]
    }
   ],
   "source": [
    "run exp.py"
   ]
  },
  {
   "cell_type": "code",
   "execution_count": null,
   "metadata": {},
   "outputs": [],
   "source": []
  }
 ],
 "metadata": {
  "kernelspec": {
   "display_name": "Python 3",
   "language": "python",
   "name": "python3"
  },
  "language_info": {
   "codemirror_mode": {
    "name": "ipython",
    "version": 3
   },
   "file_extension": ".py",
   "mimetype": "text/x-python",
   "name": "python",
   "nbconvert_exporter": "python",
   "pygments_lexer": "ipython3",
   "version": "3.6.5"
  }
 },
 "nbformat": 4,
 "nbformat_minor": 2
}
